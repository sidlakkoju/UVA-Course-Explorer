{
 "cells": [
  {
   "cell_type": "code",
   "execution_count": null,
   "id": "888ce484",
   "metadata": {},
   "outputs": [],
   "source": [
    "import pandas as pd"
   ]
  },
  {
   "cell_type": "code",
   "execution_count": null,
   "id": "9dc3ec47",
   "metadata": {},
   "outputs": [],
   "source": [
    "df = pd.read_csv(\"courses.csv\")\n",
    "df"
   ]
  },
  {
   "cell_type": "code",
   "execution_count": null,
   "id": "d6e14c4d",
   "metadata": {},
   "outputs": [],
   "source": [
    "print(df.columns)"
   ]
  },
  {
   "cell_type": "code",
   "execution_count": null,
   "id": "d395c41c",
   "metadata": {},
   "outputs": [],
   "source": [
    "print(df.iloc[2])"
   ]
  },
  {
   "cell_type": "code",
   "execution_count": null,
   "id": "cfb9591b",
   "metadata": {},
   "outputs": [],
   "source": [
    "df.iloc[7][\"instructors\"]"
   ]
  },
  {
   "cell_type": "code",
   "execution_count": null,
   "id": "7f2ad55f",
   "metadata": {},
   "outputs": [],
   "source": [
    "# Get unique combinations of 'Name' and 'City' columns\n",
    "unique_combinations = df.drop_duplicates(subset=['subject', 'catalog_nbr'])\n",
    "filtered = unique_combinations[['acad_org', 'catalog_nbr', 'class_nbr', 'subject', 'subject_descr', 'descr', 'units', 'acad_career_descr']]\n",
    "# catalog number - x\n",
    "# department - x x\n",
    "# course title - x\n",
    "# course description \n",
    "# undergraduate or graduate - x\n",
    "# credits - \n",
    "\n",
    "\n",
    "# pd.set_option('display.max_rows', None)\n",
    "# pd.set_option('display.max_columns', None)\n",
    "# unique_combinations\n",
    "filtered"
   ]
  },
  {
   "cell_type": "code",
   "execution_count": null,
   "id": "e4c46cc7",
   "metadata": {},
   "outputs": [],
   "source": [
    "print(len(filtered))"
   ]
  },
  {
   "cell_type": "code",
   "execution_count": null,
   "id": "b000f4e7",
   "metadata": {},
   "outputs": [],
   "source": [
    "print(len(filtered[\"class_nbr\"].unique()))"
   ]
  },
  {
   "cell_type": "code",
   "execution_count": null,
   "id": "ab7e17a1",
   "metadata": {},
   "outputs": [],
   "source": [
    "import requests\n",
    "class_nbr = 16528\n",
    "test_url = f\"https://sisuva.admin.virginia.edu/psc/ihprd/UVSS/SA/s/WEBLIB_HCX_CM.H_CLASS_SEARCH.FieldFormula.IScript_ClassDetails?institution=UVA01&term=1232&class_nbr={class_nbr}\"\n",
    "r = requests.get(test_url).json()\n",
    "description = ['section_info']['catalog_descr']['crse_catalog_description']\n"
   ]
  },
  {
   "cell_type": "code",
   "execution_count": null,
   "id": "c8e25fc9",
   "metadata": {},
   "outputs": [],
   "source": [
    "# loop over the rows and the get the detailed descriptions from the api\n",
    "descriptions = []\n",
    "for index, row in filtered.iterrows():\n",
    "    subject, class_nbr = row['subject'], row['class_nbr']\n",
    "    url = f\"https://sisuva.admin.virginia.edu/psc/ihprd/UVSS/SA/s/WEBLIB_HCX_CM.H_CLASS_SEARCH.FieldFormula.IScript_ClassDetails?institution=UVA01&term=1232&class_nbr={class_nbr}\"\n",
    "    r = requests.get(url).json()\n",
    "    description = r['section_info']['catalog_descr']['crse_catalog_description']\n",
    "    print(index, description)\n",
    "    print()\n",
    "    descriptions.append(description)"
   ]
  },
  {
   "cell_type": "code",
   "execution_count": null,
   "id": "72bae47e",
   "metadata": {},
   "outputs": [],
   "source": [
    "# class_details url\n",
    "class_details_url = \"https://sisuva.admin.virginia.edu/psc/ihprd/UVSS/SA/s/WEBLIB_HCX_CM.H_CLASS_SEARCH.FieldFormula.IScript_ClassDetails?institution=UVA01&term=1232&class_nbr=16405\""
   ]
  },
  {
   "cell_type": "code",
   "execution_count": null,
   "id": "803f1132",
   "metadata": {},
   "outputs": [],
   "source": [
    "# save the course descriptions in pkl file\n",
    "import pickle\n",
    "with open('course_descriptions.pkl', 'wb') as f:\n",
    "    # use the pickle module to dump the array to the file\n",
    "    pickle.dump(descriptions, f)"
   ]
  },
  {
   "cell_type": "code",
   "execution_count": null,
   "id": "e04d6ff5",
   "metadata": {},
   "outputs": [],
   "source": [
    "# open the pkl file for reading in binary mode\n",
    "with open('course_descriptions.pkl', 'rb') as f:\n",
    "    # use the pickle module to load the serialized data from the file\n",
    "    my_array = pickle.load(f)\n",
    "print(len(my_array))"
   ]
  },
  {
   "cell_type": "code",
   "execution_count": null,
   "id": "5ea4d344",
   "metadata": {},
   "outputs": [],
   "source": [
    "# add the descriptions as a column to the filtered dataframe\n",
    "filtered['description'] = descriptions\n",
    "filtered"
   ]
  },
  {
   "cell_type": "code",
   "execution_count": null,
   "id": "2e74984b",
   "metadata": {},
   "outputs": [],
   "source": [
    "filtered.to_csv('static_info.csv', index=False)"
   ]
  },
  {
   "cell_type": "code",
   "execution_count": null,
   "id": "ffe8b412",
   "metadata": {},
   "outputs": [],
   "source": []
  }
 ],
 "metadata": {
  "kernelspec": {
   "display_name": "myenv",
   "language": "python",
   "name": "myenv"
  },
  "language_info": {
   "codemirror_mode": {
    "name": "ipython",
    "version": 3
   },
   "file_extension": ".py",
   "mimetype": "text/x-python",
   "name": "python",
   "nbconvert_exporter": "python",
   "pygments_lexer": "ipython3",
   "version": "3.8.1"
  }
 },
 "nbformat": 4,
 "nbformat_minor": 5
}
