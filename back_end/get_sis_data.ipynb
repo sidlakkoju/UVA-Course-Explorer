{
 "cells": [
  {
   "cell_type": "code",
   "execution_count": null,
   "id": "34aa90e8",
   "metadata": {},
   "outputs": [],
   "source": [
    "import pandas as pd\n",
    "from tqdm import tqdm"
   ]
  },
  {
   "cell_type": "code",
   "execution_count": null,
   "id": "c150dcb9",
   "metadata": {},
   "outputs": [],
   "source": [
    "# class for query builder?\n",
    "def get_base_url(year=2023, term=\"spring\"):\n",
    "    year_str = str(year)[-2:]\n",
    "    term_num = 8\n",
    "    if term == \"spring\":\n",
    "        term_num = 2\n",
    "    return f\"https://sisuva.admin.virginia.edu/psc/ihprd/UVSS/SA/s/WEBLIB_HCX_CM.H_CLASS_SEARCH.FieldFormula.IScript_ClassSearchOptions?institution=UVA01&term=1{year_str}{term_str}\""
   ]
  },
  {
   "cell_type": "markdown",
   "id": "e461c8c9",
   "metadata": {},
   "source": [
    "# All Department Mnemonics"
   ]
  },
  {
   "cell_type": "code",
   "execution_count": 4,
   "id": "7ff03c01",
   "metadata": {},
   "outputs": [],
   "source": [
    "print(get_base_url())"
   ]
  },
  {
   "cell_type": "code",
   "execution_count": 1,
   "id": "1b12be0f",
   "metadata": {},
   "outputs": [],
   "source": [
    "    clist = [('MATH','3100'), ('PSYC','2150'), ('STAT','2120')]\n",
    "    url = 'https://sisuva.admin.virginia.edu/psc/ihprd/UVSS/SA/s/WEBLIB_HCX_CM.H_CLASS_SEARCH.FieldFormula.IScript_ClassSearch?institution=UVA01&term=1238&page=1'\n",
    "\n",
    "    for c in clist:\n",
    "        r = requests.get(url + '&subject=' + c[0] + '&catalog_nbr=' + c[1])\n",
    "        for c in r.json():\n",
    "            print(c['subject'], c['catalog_nbr'] + '-' + c['class_section'], c['component'], c['descr'], \\\n",
    "                  c['class_nbr'], c['class_capacity'], c['enrollment_available'])"
   ]
  }
 ],
 "metadata": {
  "kernelspec": {
   "display_name": "Python 3 (ipykernel)",
   "language": "python",
   "name": "python3"
  },
  "language_info": {
   "codemirror_mode": {
    "name": "ipython",
    "version": 3
   },
   "file_extension": ".py",
   "mimetype": "text/x-python",
   "name": "python",
   "nbconvert_exporter": "python",
   "pygments_lexer": "ipython3",
   "version": "3.8.1"
  }
 },
 "nbformat": 4,
 "nbformat_minor": 5
}
