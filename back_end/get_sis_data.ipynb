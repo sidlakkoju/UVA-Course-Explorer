{
 "cells": [
  {
   "cell_type": "code",
   "execution_count": null,
   "id": "d63a22f6",
   "metadata": {},
   "outputs": [],
   "source": [
    "import pandas as pd\n",
    "from tqdm import tqdm"
   ]
  },
  {
   "cell_type": "code",
   "execution_count": 12,
   "id": "1b6c8249",
   "metadata": {},
   "outputs": [],
   "source": [
    "# class for query builder?\n",
    "def get_base_url(year=2023, term=\"spring\"):\n",
    "    year_str = str(year)[-2:]\n",
    "    term_num = 8\n",
    "    if term == \"spring\":\n",
    "        term_num = 2\n",
    "    return f\"https://sisuva.admin.virginia.edu/psc/ihprd/UVSS/SA/s/WEBLIB_HCX_CM.H_CLASS_SEARCH.FieldFormula.IScript_ClassSearchOptions?institution=UVA01&term=1{year_str}{term_num}\""
   ]
  },
  {
   "cell_type": "code",
   "execution_count": 13,
   "id": "17bafa20",
   "metadata": {},
   "outputs": [
    {
     "name": "stdout",
     "output_type": "stream",
     "text": [
      "hello\n"
     ]
    }
   ],
   "source": [
    "print(\"hello\")"
   ]
  },
  {
   "cell_type": "markdown",
   "id": "b49a472f",
   "metadata": {},
   "source": [
    "# All Department Mnemonics"
   ]
  },
  {
   "cell_type": "code",
   "execution_count": 10,
   "id": "5290b2ca",
   "metadata": {},
   "outputs": [
    {
     "name": "stdout",
     "output_type": "stream",
     "text": [
      "hello\n",
      "https://sisuva.admin.virginia.edu/psc/ihprd/UVSS/SA/s/WEBLIB_HCX_CM.H_CLASS_SEARCH.FieldFormula.IScript_ClassSearchOptions?institution=UVA01&term=1232\n",
      "https://sisuva.admin.virginia.edu/psc/ihprd/UVSS/SA/s/WEBLIB_HCX_CM.H_CLASS_SEARCH.FieldFormula.IScript_ClassSearchOptions?institution=UVA01&term=1232\n"
     ]
    }
   ],
   "source": [
    "print(get_base_url())"
   ]
  },
  {
   "cell_type": "code",
   "execution_count": 1,
   "id": "51c3b46b",
   "metadata": {},
   "outputs": [
    {
     "ename": "NameError",
     "evalue": "name 'requests' is not defined",
     "output_type": "error",
     "traceback": [
      "\u001b[0;31m---------------------------------------------------------------------------\u001b[0m",
      "\u001b[0;31mNameError\u001b[0m                                 Traceback (most recent call last)",
      "Cell \u001b[0;32mIn[1], line 5\u001b[0m\n\u001b[1;32m      2\u001b[0m url \u001b[38;5;241m=\u001b[39m \u001b[38;5;124m'\u001b[39m\u001b[38;5;124mhttps://sisuva.admin.virginia.edu/psc/ihprd/UVSS/SA/s/WEBLIB_HCX_CM.H_CLASS_SEARCH.FieldFormula.IScript_ClassSearch?institution=UVA01&term=1238&page=1\u001b[39m\u001b[38;5;124m'\u001b[39m\n\u001b[1;32m      4\u001b[0m \u001b[38;5;28;01mfor\u001b[39;00m c \u001b[38;5;129;01min\u001b[39;00m clist:\n\u001b[0;32m----> 5\u001b[0m     r \u001b[38;5;241m=\u001b[39m \u001b[43mrequests\u001b[49m\u001b[38;5;241m.\u001b[39mget(url \u001b[38;5;241m+\u001b[39m \u001b[38;5;124m'\u001b[39m\u001b[38;5;124m&subject=\u001b[39m\u001b[38;5;124m'\u001b[39m \u001b[38;5;241m+\u001b[39m c[\u001b[38;5;241m0\u001b[39m] \u001b[38;5;241m+\u001b[39m \u001b[38;5;124m'\u001b[39m\u001b[38;5;124m&catalog_nbr=\u001b[39m\u001b[38;5;124m'\u001b[39m \u001b[38;5;241m+\u001b[39m c[\u001b[38;5;241m1\u001b[39m])\n\u001b[1;32m      6\u001b[0m     \u001b[38;5;28;01mfor\u001b[39;00m c \u001b[38;5;129;01min\u001b[39;00m r\u001b[38;5;241m.\u001b[39mjson():\n\u001b[1;32m      7\u001b[0m         \u001b[38;5;28mprint\u001b[39m(c[\u001b[38;5;124m'\u001b[39m\u001b[38;5;124msubject\u001b[39m\u001b[38;5;124m'\u001b[39m], c[\u001b[38;5;124m'\u001b[39m\u001b[38;5;124mcatalog_nbr\u001b[39m\u001b[38;5;124m'\u001b[39m] \u001b[38;5;241m+\u001b[39m \u001b[38;5;124m'\u001b[39m\u001b[38;5;124m-\u001b[39m\u001b[38;5;124m'\u001b[39m \u001b[38;5;241m+\u001b[39m c[\u001b[38;5;124m'\u001b[39m\u001b[38;5;124mclass_section\u001b[39m\u001b[38;5;124m'\u001b[39m], c[\u001b[38;5;124m'\u001b[39m\u001b[38;5;124mcomponent\u001b[39m\u001b[38;5;124m'\u001b[39m], c[\u001b[38;5;124m'\u001b[39m\u001b[38;5;124mdescr\u001b[39m\u001b[38;5;124m'\u001b[39m], \\\n\u001b[1;32m      8\u001b[0m               c[\u001b[38;5;124m'\u001b[39m\u001b[38;5;124mclass_nbr\u001b[39m\u001b[38;5;124m'\u001b[39m], c[\u001b[38;5;124m'\u001b[39m\u001b[38;5;124mclass_capacity\u001b[39m\u001b[38;5;124m'\u001b[39m], c[\u001b[38;5;124m'\u001b[39m\u001b[38;5;124menrollment_available\u001b[39m\u001b[38;5;124m'\u001b[39m])\n",
      "\u001b[0;31mNameError\u001b[0m: name 'requests' is not defined"
     ]
    }
   ],
   "source": [
    "    clist = [('MATH','3100'), ('PSYC','2150'), ('STAT','2120')]\n",
    "    url = 'https://sisuva.admin.virginia.edu/psc/ihprd/UVSS/SA/s/WEBLIB_HCX_CM.H_CLASS_SEARCH.FieldFormula.IScript_ClassSearch?institution=UVA01&term=1238&page=1'\n",
    "\n",
    "    for c in clist:\n",
    "        r = requests.get(url + '&subject=' + c[0] + '&catalog_nbr=' + c[1])\n",
    "        for c in r.json():\n",
    "            print(c['subject'], c['catalog_nbr'] + '-' + c['class_section'], c['component'], c['descr'], \\\n",
    "                  c['class_nbr'], c['class_capacity'], c['enrollment_available'])"
   ]
  }
 ],
 "metadata": {
  "kernelspec": {
   "display_name": "Python 3 (ipykernel)",
   "language": "python",
   "name": "python3"
  },
  "language_info": {
   "codemirror_mode": {
    "name": "ipython",
    "version": 3
   },
   "file_extension": ".py",
   "mimetype": "text/x-python",
   "name": "python",
   "nbconvert_exporter": "python",
   "pygments_lexer": "ipython3",
   "version": "3.8.1"
  }
 },
 "nbformat": 4,
 "nbformat_minor": 5
}
